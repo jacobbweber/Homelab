{
 "cells": [
  {
   "attachments": {},
   "cell_type": "markdown",
   "metadata": {},
   "source": [
    "### Install winbind components"
   ]
  },
  {
   "cell_type": "code",
   "execution_count": null,
   "metadata": {
    "dotnet_interactive": {
     "language": "csharp"
    },
    "polyglot_notebook": {
     "kernelName": "csharp"
    }
   },
   "outputs": [],
   "source": [
    "yum install samba-winbind-clients samba-winbind samba-common-tools samba-winbind-krb5-locator"
   ]
  },
  {
   "attachments": {},
   "cell_type": "markdown",
   "metadata": {},
   "source": [
    "### Install Samba"
   ]
  },
  {
   "cell_type": "code",
   "execution_count": null,
   "metadata": {},
   "outputs": [],
   "source": [
    "yum install samba"
   ]
  },
  {
   "attachments": {},
   "cell_type": "markdown",
   "metadata": {},
   "source": [
    "### Enable SMB and NMB"
   ]
  },
  {
   "cell_type": "code",
   "execution_count": null,
   "metadata": {},
   "outputs": [],
   "source": [
    "systemctl enable --now smb\n",
    "systemctl enable --now nmb"
   ]
  },
  {
   "attachments": {},
   "cell_type": "markdown",
   "metadata": {},
   "source": [
    "### visudo (add AD groups to sudoers file with NETBIOS domain syntax) i.e.\n",
    "### Allows people in group wheel to run all commands\n",
    "```bash\n",
    "%wheel ALL=(ALL) ALL\n",
    "%Local\\ Admins-Linux\\ Servers@contoso.com ALL=(ALL) NOPASSWD: ALL\n",
    "%SERVER1-Local\\ Admin@contoso.com ALL=(ALL) NOPASSWD: ALL\n",
    "%NETBIOS\\\\Local\\ Admins-Linux\\ Servers ALL=(ALL) NOPASSWD: ALL\n",
    "%NETBIOS\\\\SERVER1-Local\\ Admin ALL=(ALL) NOPASSWD: ALL\n",
    "```"
   ]
  },
  {
   "attachments": {},
   "cell_type": "markdown",
   "metadata": {},
   "source": [
    "### Leave Realm"
   ]
  },
  {
   "cell_type": "code",
   "execution_count": null,
   "metadata": {},
   "outputs": [],
   "source": [
    "realm leave --user=username@contoso.com contoso.com"
   ]
  },
  {
   "attachments": {},
   "cell_type": "markdown",
   "metadata": {},
   "source": [
    "### Join Realm"
   ]
  },
  {
   "cell_type": "code",
   "execution_count": null,
   "metadata": {},
   "outputs": [],
   "source": [
    "realm join --client-software=winbind --user=username@contoso.com contoso.com"
   ]
  },
  {
   "attachments": {},
   "cell_type": "markdown",
   "metadata": {},
   "source": [
    "### Add user to local Linux Group\n",
    "### use\n",
    "cat /etc/group to see"
   ]
  },
  {
   "cell_type": "code",
   "execution_count": null,
   "metadata": {},
   "outputs": [],
   "source": [
    "usermod -aG swcc \"CONTOSO\\username\""
   ]
  },
  {
   "attachments": {},
   "cell_type": "markdown",
   "metadata": {},
   "source": [
    "### configure smb.conf file\n",
    "```yaml\n",
    "[global]\n",
    "security = ads\n",
    "passdb backend = tdbsam\n",
    "# log files split per-machine:\n",
    "log file = /var/log/samba/log.%m\n",
    "# enable the following line to debug:\n",
    "log level =3\n",
    "# maximum size of 500KB per log file, then rotate:\n",
    "max log size = 500\n",
    "kerberos method = secrets and keytab\n",
    "template homedir = /home/%U@%D\n",
    "workgroup = NETBIOS\n",
    "template shell = /bin/bash\n",
    "realm = CONTOSO.COM #Change upn\n",
    "idmap config NETBIOS : range = 2000000-2999999 #Change netbios\n",
    "idmap config NETBIOS : backend = rid #Change netbios\n",
    "idmap config * : range = 10000-999999\n",
    "idmap config * : backend = tdb\n",
    "winbind use default domain = no\n",
    "winbind refresh tickets = yes\n",
    "winbind offline logon = yes\n",
    "winbind enum groups = no\n",
    "winbind enum users = no\n",
    "\n",
    "[capture]\n",
    "# hosts allow = 10.74.0.28 10.74.0.136 10.70.2.34\n",
    "path = /mnt/capture\n",
    "guest ok = no\n",
    "valid users = @\"NETBIOS\\ad_group_name\" #Change AD Group Name, or User\n",
    "writeable = yes\n",
    "create mask = 0775\n",
    "directory mask = 0775\n",
    "```"
   ]
  },
  {
   "attachments": {},
   "cell_type": "markdown",
   "metadata": {},
   "source": [
    "#### Reload SMB config"
   ]
  },
  {
   "cell_type": "code",
   "execution_count": null,
   "metadata": {},
   "outputs": [],
   "source": [
    "smbcontrol all reload-config"
   ]
  }
 ],
 "metadata": {
  "kernelspec": {
   "display_name": "Python 3",
   "language": "python",
   "name": "python3"
  },
  "language_info": {
   "name": "python",
   "version": "3.8.10"
  },
  "polyglot_notebook": {
   "kernelInfo": {
    "defaultKernelName": "csharp",
    "items": [
     {
      "aliases": [],
      "name": "csharp"
     },
     {
      "aliases": [],
      "languageName": "KQL",
      "name": "kql"
     },
     {
      "aliases": [
       "frontend"
      ],
      "languageName": null,
      "name": "vscode"
     }
    ]
   }
  },
  "vscode": {
   "interpreter": {
    "hash": "916dbcbb3f70747c44a77c7bcd40155683ae19c65e1c03b4aa3499c5328201f1"
   }
  }
 },
 "nbformat": 4,
 "nbformat_minor": 2
}
